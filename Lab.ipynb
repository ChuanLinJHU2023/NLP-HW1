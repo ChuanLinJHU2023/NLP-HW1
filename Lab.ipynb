{
 "cells": [
  {
   "cell_type": "code",
   "execution_count": 79,
   "id": "a8da056c-a2f0-48c2-8397-e4689bb665de",
   "metadata": {},
   "outputs": [],
   "source": [
    "\n",
    "def process_line(line):\n",
    "    if line[0]==\"#\":\n",
    "        return None\n",
    "    line = line.strip()\n",
    "    if \"#\" in line:\n",
    "        line = line[:line.index(\"#\")]\n",
    "    line = line.strip()\n",
    "    line = line.split(\" \")\n",
    "    line = line[0].split(\"\\t\") + line[1:]\n",
    "    if len(line)==1:\n",
    "        return None\n",
    "    return line\n",
    "\n",
    "from collections import defaultdict\n",
    "rules = list()\n",
    "filename = 'grammar.gr.txt'\n",
    "dict_prob = defaultdict(list)\n",
    "dict_rhs = defaultdict(list)\n",
    "# RHS: right hand side\n",
    "with open(filename, 'r') as file:\n",
    "    lines = file.readlines()\n",
    "    for line in lines:\n",
    "        line = process_line(line)\n",
    "        if not line:\n",
    "            continue\n",
    "        weight = line[0]\n",
    "        lhs = line[1]\n",
    "        rhs = line[2:]\n",
    "        dict_prob[lhs].append(weight)\n",
    "        dict_rhs[lhs].append(rhs)\n",
    "        rules.append([weight, lhs, rhs])"
   ]
  },
  {
   "cell_type": "code",
   "execution_count": 81,
   "id": "d2684121-a4d5-420d-a8f8-6a7d7efbee91",
   "metadata": {},
   "outputs": [
    {
     "data": {
      "text/plain": [
       "defaultdict(list,\n",
       "            {'ROOT': ['1', '1', '1'],\n",
       "             'S': ['1'],\n",
       "             'VP': ['1'],\n",
       "             'NP': ['1', '1'],\n",
       "             'PP': ['1'],\n",
       "             'Noun': ['1', '1', '1', '1', '1', '1'],\n",
       "             'Verb': ['1', '1', '1', '1', '1'],\n",
       "             'Det': ['1', '1', '1'],\n",
       "             'Adj': ['1', '1', '1', '1'],\n",
       "             'Prep': ['1', '1', '1', '1']})"
      ]
     },
     "execution_count": 81,
     "metadata": {},
     "output_type": "execute_result"
    }
   ],
   "source": [
    "dict_prob"
   ]
  },
  {
   "cell_type": "code",
   "execution_count": 83,
   "id": "a51ada05-d470-4d75-ae63-3856b6f3b3d9",
   "metadata": {},
   "outputs": [
    {
     "data": {
      "text/plain": [
       "defaultdict(list,\n",
       "            {'ROOT': [['S', '.'],\n",
       "              ['S', '!'],\n",
       "              ['is', 'it', 'true', 'that', 'S', '?']],\n",
       "             'S': [['NP', 'VP']],\n",
       "             'VP': [['Verb', 'NP']],\n",
       "             'NP': [['Det', 'Noun'], ['NP', 'PP']],\n",
       "             'PP': [['Prep', 'NP']],\n",
       "             'Noun': [['Adj', 'Noun'],\n",
       "              ['president'],\n",
       "              ['sandwich'],\n",
       "              ['pickle'],\n",
       "              ['chief', 'of', 'staff'],\n",
       "              ['floor']],\n",
       "             'Verb': [['ate'],\n",
       "              ['wanted'],\n",
       "              ['kissed'],\n",
       "              ['understood'],\n",
       "              ['pickled']],\n",
       "             'Det': [['the'], ['a'], ['every']],\n",
       "             'Adj': [['fine'], ['delicious'], ['perplexed'], ['pickled']],\n",
       "             'Prep': [['with'], ['on'], ['under'], ['in']]})"
      ]
     },
     "execution_count": 83,
     "metadata": {},
     "output_type": "execute_result"
    }
   ],
   "source": [
    "dict_rhs"
   ]
  },
  {
   "cell_type": "code",
   "execution_count": 85,
   "id": "7604f109-3174-4b05-83aa-799924e0e10b",
   "metadata": {},
   "outputs": [
    {
     "data": {
      "text/plain": [
       "[['1', 'ROOT', ['S', '.']],\n",
       " ['1', 'ROOT', ['S', '!']],\n",
       " ['1', 'ROOT', ['is', 'it', 'true', 'that', 'S', '?']],\n",
       " ['1', 'S', ['NP', 'VP']],\n",
       " ['1', 'VP', ['Verb', 'NP']],\n",
       " ['1', 'NP', ['Det', 'Noun']],\n",
       " ['1', 'NP', ['NP', 'PP']],\n",
       " ['1', 'PP', ['Prep', 'NP']],\n",
       " ['1', 'Noun', ['Adj', 'Noun']],\n",
       " ['1', 'Verb', ['ate']],\n",
       " ['1', 'Verb', ['wanted']],\n",
       " ['1', 'Verb', ['kissed']],\n",
       " ['1', 'Verb', ['understood']],\n",
       " ['1', 'Verb', ['pickled']],\n",
       " ['1', 'Det', ['the']],\n",
       " ['1', 'Det', ['a']],\n",
       " ['1', 'Det', ['every']],\n",
       " ['1', 'Noun', ['president']],\n",
       " ['1', 'Noun', ['sandwich']],\n",
       " ['1', 'Noun', ['pickle']],\n",
       " ['1', 'Noun', ['chief', 'of', 'staff']],\n",
       " ['1', 'Noun', ['floor']],\n",
       " ['1', 'Adj', ['fine']],\n",
       " ['1', 'Adj', ['delicious']],\n",
       " ['1', 'Adj', ['perplexed']],\n",
       " ['1', 'Adj', ['pickled']],\n",
       " ['1', 'Prep', ['with']],\n",
       " ['1', 'Prep', ['on']],\n",
       " ['1', 'Prep', ['under']],\n",
       " ['1', 'Prep', ['in']]]"
      ]
     },
     "execution_count": 85,
     "metadata": {},
     "output_type": "execute_result"
    }
   ],
   "source": [
    "rules"
   ]
  },
  {
   "cell_type": "code",
   "execution_count": null,
   "id": "1352f415-72c9-4189-b17d-047b737bcd50",
   "metadata": {},
   "outputs": [],
   "source": []
  }
 ],
 "metadata": {
  "kernelspec": {
   "display_name": "Python 3 (ipykernel)",
   "language": "python",
   "name": "python3"
  },
  "language_info": {
   "codemirror_mode": {
    "name": "ipython",
    "version": 3
   },
   "file_extension": ".py",
   "mimetype": "text/x-python",
   "name": "python",
   "nbconvert_exporter": "python",
   "pygments_lexer": "ipython3",
   "version": "3.12.4"
  }
 },
 "nbformat": 4,
 "nbformat_minor": 5
}
