{
 "cells": [
  {
   "cell_type": "code",
   "execution_count": 48,
   "id": "a8da056c-a2f0-48c2-8397-e4689bb665de",
   "metadata": {},
   "outputs": [],
   "source": [
    "\n",
    "def process_line(line):\n",
    "    if line[0]==\"#\":\n",
    "        return None\n",
    "    line = line.strip()\n",
    "    if \"#\" in line:\n",
    "        line = line[:line.index(\"#\")]\n",
    "    line = line.strip()\n",
    "    line = line.split(\" \")\n",
    "    line = line[0].split(\"\\t\") + line[1:]\n",
    "    if len(line)==1:\n",
    "        return None\n",
    "    return line\n",
    "\n",
    "from collections import defaultdict\n",
    "rules = list()\n",
    "filename = 'grammar.gr.txt'\n",
    "dict_prob = defaultdict(list)\n",
    "dict_rhs = defaultdict(list)\n",
    "# RHS: right hand side\n",
    "with open(filename, 'r') as file:\n",
    "    lines = file.readlines()\n",
    "    for line in lines:\n",
    "        line = process_line(line)\n",
    "        if not line:\n",
    "            continue\n",
    "        weight = line[0]\n",
    "        lhs = line[1]\n",
    "        rhs = line[2:]\n",
    "        dict_prob[lhs].append(weight)\n",
    "        dict_rhs[lhs].append(rhs)\n",
    "        rules.append([weight, lhs, rhs])"
   ]
  },
  {
   "cell_type": "code",
   "execution_count": 49,
   "id": "d2684121-a4d5-420d-a8f8-6a7d7efbee91",
   "metadata": {},
   "outputs": [
    {
     "data": {
      "text/plain": [
       "defaultdict(list,\n",
       "            {'ROOT': ['1', '1', '1'],\n",
       "             'S': ['1'],\n",
       "             'VP': ['1'],\n",
       "             'NP': ['1', '1'],\n",
       "             'PP': ['1'],\n",
       "             'Noun': ['1', '1', '1', '1', '1', '1'],\n",
       "             'Verb': ['1', '1', '1', '1', '1'],\n",
       "             'Det': ['1', '1', '1'],\n",
       "             'Adj': ['1', '1', '1', '1'],\n",
       "             'Prep': ['1', '1', '1', '1']})"
      ]
     },
     "execution_count": 49,
     "metadata": {},
     "output_type": "execute_result"
    }
   ],
   "source": [
    "dict_prob"
   ]
  },
  {
   "cell_type": "code",
   "execution_count": 50,
   "id": "a51ada05-d470-4d75-ae63-3856b6f3b3d9",
   "metadata": {},
   "outputs": [
    {
     "data": {
      "text/plain": [
       "defaultdict(list,\n",
       "            {'ROOT': [['S', '.'],\n",
       "              ['S', '!'],\n",
       "              ['is', 'it', 'true', 'that', 'S', '?']],\n",
       "             'S': [['NP', 'VP']],\n",
       "             'VP': [['Verb', 'NP']],\n",
       "             'NP': [['Det', 'Noun'], ['NP', 'PP']],\n",
       "             'PP': [['Prep', 'NP']],\n",
       "             'Noun': [['Adj', 'Noun'],\n",
       "              ['president'],\n",
       "              ['sandwich'],\n",
       "              ['pickle'],\n",
       "              ['chief', 'of', 'staff'],\n",
       "              ['floor']],\n",
       "             'Verb': [['ate'],\n",
       "              ['wanted'],\n",
       "              ['kissed'],\n",
       "              ['understood'],\n",
       "              ['pickled']],\n",
       "             'Det': [['the'], ['a'], ['every']],\n",
       "             'Adj': [['fine'], ['delicious'], ['perplexed'], ['pickled']],\n",
       "             'Prep': [['with'], ['on'], ['under'], ['in']]})"
      ]
     },
     "execution_count": 50,
     "metadata": {},
     "output_type": "execute_result"
    }
   ],
   "source": [
    "dict_rhs"
   ]
  },
  {
   "cell_type": "code",
   "execution_count": 51,
   "id": "7604f109-3174-4b05-83aa-799924e0e10b",
   "metadata": {},
   "outputs": [
    {
     "data": {
      "text/plain": [
       "[['1', 'ROOT', ['S', '.']],\n",
       " ['1', 'ROOT', ['S', '!']],\n",
       " ['1', 'ROOT', ['is', 'it', 'true', 'that', 'S', '?']],\n",
       " ['1', 'S', ['NP', 'VP']],\n",
       " ['1', 'VP', ['Verb', 'NP']],\n",
       " ['1', 'NP', ['Det', 'Noun']],\n",
       " ['1', 'NP', ['NP', 'PP']],\n",
       " ['1', 'PP', ['Prep', 'NP']],\n",
       " ['1', 'Noun', ['Adj', 'Noun']],\n",
       " ['1', 'Verb', ['ate']],\n",
       " ['1', 'Verb', ['wanted']],\n",
       " ['1', 'Verb', ['kissed']],\n",
       " ['1', 'Verb', ['understood']],\n",
       " ['1', 'Verb', ['pickled']],\n",
       " ['1', 'Det', ['the']],\n",
       " ['1', 'Det', ['a']],\n",
       " ['1', 'Det', ['every']],\n",
       " ['1', 'Noun', ['president']],\n",
       " ['1', 'Noun', ['sandwich']],\n",
       " ['1', 'Noun', ['pickle']],\n",
       " ['1', 'Noun', ['chief', 'of', 'staff']],\n",
       " ['1', 'Noun', ['floor']],\n",
       " ['1', 'Adj', ['fine']],\n",
       " ['1', 'Adj', ['delicious']],\n",
       " ['1', 'Adj', ['perplexed']],\n",
       " ['1', 'Adj', ['pickled']],\n",
       " ['1', 'Prep', ['with']],\n",
       " ['1', 'Prep', ['on']],\n",
       " ['1', 'Prep', ['under']],\n",
       " ['1', 'Prep', ['in']]]"
      ]
     },
     "execution_count": 51,
     "metadata": {},
     "output_type": "execute_result"
    }
   ],
   "source": [
    "rules"
   ]
  },
  {
   "cell_type": "code",
   "execution_count": 52,
   "id": "1352f415-72c9-4189-b17d-047b737bcd50",
   "metadata": {},
   "outputs": [
    {
     "name": "stdout",
     "output_type": "stream",
     "text": [
      "Generated sentence: a pickle on a chief of staff under a president with the pickle under a delicious chief of staff in every fine pickled pickle on the pickle on a chief of staff on the chief of staff in the chief of staff in the floor in every sandwich in a chief of staff with a pickle on the president in the president on the pickle in the chief of staff in a president on the pickle under the pickle under every sandwich with the chief of staff under every fine chief of staff on the chief of staff with every chief of staff on every president under the president under every chief of staff with every president under every pickle on a president on every chief of staff with a president in the president with the sandwich in the president in the delicious pickle on every pickle on the sandwich on a sandwich under a chief of staff in the floor with the fine chief of staff on a president under a chief of staff on a sandwich in a president in every president with the chief of staff on the president in a sandwich on a floor under a floor on every president in every president in every sandwich in the fine chief of staff under every floor on every president on the president on the sandwich in every perplexed sandwich with the pickle on the chief of staff in the floor in the president on a pickle on a sandwich on every chief of staff in ... ... ... ... ... ... ... ... ... ... ... ... ... ... !\n"
     ]
    }
   ],
   "source": [
    "import random\n",
    "\n",
    "class PCFG:\n",
    "    def __init__(self, dict_prob, dict_rhs, max_expansions=450):\n",
    "        self.dict_prob = dict_prob  \n",
    "        self.dict_rhs = dict_rhs\n",
    "        self.max_expansions = max_expansions\n",
    "        self.expansion_count = 0\n",
    "    \n",
    "    def sample(self, symbol):\n",
    "        # Base case: If the symbol is a terminal, return it\n",
    "        if symbol not in self.dict_rhs:\n",
    "            return symbol\n",
    "        \n",
    "        # It should just print \"...\" if M is reached\n",
    "        if self.expansion_count >= self.max_expansions:\n",
    "            return \"...\"\n",
    "        \n",
    "        # Increment expansion count\n",
    "        self.expansion_count += 1\n",
    "        \n",
    "        # Select a rule based on weights\n",
    "        rule = self._weighted_choice(self.dict_rhs[symbol], self.dict_prob[symbol])\n",
    "        \n",
    "        # Recursively expand each symbol in the selected rule\n",
    "        result = []\n",
    "        for sub_symbol in rule:\n",
    "            result.append(self.sample(sub_symbol))\n",
    "        \n",
    "        return \" \".join(result)\n",
    "    \n",
    "    def _weighted_choice(self, rules, weights):\n",
    "        total = sum(float(w) for w in weights)\n",
    "        # Get distribution\n",
    "        normalized_weights = [float(w) / total for w in weights]\n",
    "\n",
    "        rand_val = random.uniform(0, 1)\n",
    "        cumulative_weight = 0\n",
    "        for rule, weight in zip(rules, normalized_weights):\n",
    "            cumulative_weight += weight\n",
    "            if rand_val <= cumulative_weight:\n",
    "                return rule\n",
    "    \n",
    "    def generate_sentence(self):\n",
    "        self.expansion_count = 0\n",
    "        return self.sample(\"ROOT\")\n",
    "\n",
    "# M = 450\n",
    "pcfg = PCFG(dict_prob, dict_rhs, max_expansions=450)\n",
    "\n",
    "# Generate a sentence\n",
    "sentence = pcfg.generate_sentence()\n",
    "print(\"Generated sentence:\", sentence)"
   ]
  }
 ],
 "metadata": {
  "kernelspec": {
   "display_name": "Python 3 (ipykernel)",
   "language": "python",
   "name": "python3"
  },
  "language_info": {
   "codemirror_mode": {
    "name": "ipython",
    "version": 3
   },
   "file_extension": ".py",
   "mimetype": "text/x-python",
   "name": "python",
   "nbconvert_exporter": "python",
   "pygments_lexer": "ipython3",
   "version": "3.9.19"
  }
 },
 "nbformat": 4,
 "nbformat_minor": 5
}
